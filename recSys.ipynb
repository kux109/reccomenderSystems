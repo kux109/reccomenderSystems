{
 "cells": [
  {
   "cell_type": "markdown",
   "id": "d0cd71ac",
   "metadata": {},
   "source": [
    "# A Jupyter Notebook for Implementing Neural Collaborative Filtering with the MovieLens Dataset\n",
    "This notebook demonstrates the implementation of Neural Collaborative Filtering (NeuMF) using the MovieLens dataset. The focus is on optimizing training efficiency and generating personalized movie recommendations."
   ]
  },
  {
   "cell_type": "markdown",
   "id": "429139a4",
   "metadata": {},
   "source": [
    "## Import Required Libraries\n",
    "Import libraries such as pandas, numpy, PyTorch, scikit-learn, and matplotlib."
   ]
  },
  {
   "cell_type": "code",
   "execution_count": 1,
   "id": "c06d9dc5",
   "metadata": {},
   "outputs": [
    {
     "name": "stdout",
     "output_type": "stream",
     "text": [
      "Requirement already satisfied: pandas in ./.venv/lib/python3.13/site-packages (2.2.3)\n",
      "Requirement already satisfied: numpy in ./.venv/lib/python3.13/site-packages (2.2.4)\n",
      "Requirement already satisfied: torch in ./.venv/lib/python3.13/site-packages (2.6.0)\n",
      "Requirement already satisfied: scikit-learn in ./.venv/lib/python3.13/site-packages (1.6.1)\n",
      "Requirement already satisfied: matplotlib in ./.venv/lib/python3.13/site-packages (3.10.1)\n",
      "Requirement already satisfied: python-dateutil>=2.8.2 in ./.venv/lib/python3.13/site-packages (from pandas) (2.9.0.post0)\n",
      "Requirement already satisfied: pytz>=2020.1 in ./.venv/lib/python3.13/site-packages (from pandas) (2025.2)\n",
      "Requirement already satisfied: tzdata>=2022.7 in ./.venv/lib/python3.13/site-packages (from pandas) (2025.2)\n",
      "Requirement already satisfied: filelock in ./.venv/lib/python3.13/site-packages (from torch) (3.18.0)\n",
      "Requirement already satisfied: typing-extensions>=4.10.0 in ./.venv/lib/python3.13/site-packages (from torch) (4.13.2)\n",
      "Requirement already satisfied: networkx in ./.venv/lib/python3.13/site-packages (from torch) (3.4.2)\n",
      "Requirement already satisfied: jinja2 in ./.venv/lib/python3.13/site-packages (from torch) (3.1.6)\n",
      "Requirement already satisfied: fsspec in ./.venv/lib/python3.13/site-packages (from torch) (2025.3.2)\n",
      "Requirement already satisfied: setuptools in ./.venv/lib/python3.13/site-packages (from torch) (78.1.0)\n",
      "Requirement already satisfied: sympy==1.13.1 in ./.venv/lib/python3.13/site-packages (from torch) (1.13.1)\n",
      "Requirement already satisfied: mpmath<1.4,>=1.1.0 in ./.venv/lib/python3.13/site-packages (from sympy==1.13.1->torch) (1.3.0)\n",
      "Requirement already satisfied: scipy>=1.6.0 in ./.venv/lib/python3.13/site-packages (from scikit-learn) (1.15.2)\n",
      "Requirement already satisfied: joblib>=1.2.0 in ./.venv/lib/python3.13/site-packages (from scikit-learn) (1.4.2)\n",
      "Requirement already satisfied: threadpoolctl>=3.1.0 in ./.venv/lib/python3.13/site-packages (from scikit-learn) (3.6.0)\n",
      "Requirement already satisfied: contourpy>=1.0.1 in ./.venv/lib/python3.13/site-packages (from matplotlib) (1.3.2)\n",
      "Requirement already satisfied: cycler>=0.10 in ./.venv/lib/python3.13/site-packages (from matplotlib) (0.12.1)\n",
      "Requirement already satisfied: fonttools>=4.22.0 in ./.venv/lib/python3.13/site-packages (from matplotlib) (4.57.0)\n",
      "Requirement already satisfied: kiwisolver>=1.3.1 in ./.venv/lib/python3.13/site-packages (from matplotlib) (1.4.8)\n",
      "Requirement already satisfied: packaging>=20.0 in ./.venv/lib/python3.13/site-packages (from matplotlib) (24.2)\n",
      "Requirement already satisfied: pillow>=8 in ./.venv/lib/python3.13/site-packages (from matplotlib) (11.2.1)\n",
      "Requirement already satisfied: pyparsing>=2.3.1 in ./.venv/lib/python3.13/site-packages (from matplotlib) (3.2.3)\n",
      "Requirement already satisfied: six>=1.5 in ./.venv/lib/python3.13/site-packages (from python-dateutil>=2.8.2->pandas) (1.17.0)\n",
      "Requirement already satisfied: MarkupSafe>=2.0 in ./.venv/lib/python3.13/site-packages (from jinja2->torch) (3.0.2)\n"
     ]
    }
   ],
   "source": [
    "# Import Required Libraries\n",
    "!pip install pandas numpy torch scikit-learn matplotlib\n",
    "import pandas as pd\n",
    "import numpy as np\n",
    "import torch\n",
    "import torch.nn as nn\n",
    "from torch.utils.data import Dataset, DataLoader\n",
    "from sklearn.model_selection import train_test_split\n",
    "import matplotlib.pyplot as plt"
   ]
  },
  {
   "cell_type": "markdown",
   "id": "d117a322",
   "metadata": {},
   "source": [
    "####  Download and Extract Dataset\n",
    "# Automated download to ensure correct directory structure"
   ]
  },
  {
   "cell_type": "code",
   "execution_count": 2,
   "id": "6fc07017",
   "metadata": {},
   "outputs": [
    {
     "name": "stdout",
     "output_type": "stream",
     "text": [
      "Extracting files...\n",
      "Extraction complete\n"
     ]
    }
   ],
   "source": [
    "import os\n",
    "import zipfile\n",
    "import urllib.request\n",
    "\n",
    "# Download MovieLens small dataset\n",
    "url = 'http://files.grouplens.org/datasets/movielens/ml-latest-small.zip'\n",
    "zip_path = 'ml-latest-small.zip'\n",
    "\n",
    "if not os.path.exists(zip_path):\n",
    "    print('Downloading dataset...')\n",
    "    urllib.request.urlretrieve(url, zip_path)\n",
    "    print('Download complete')\n",
    "\n",
    "# Extract with proper nesting\n",
    "if not os.path.exists('ml-latest-small/ml-latest-small'):\n",
    "    print('Extracting files...')\n",
    "    with zipfile.ZipFile(zip_path, 'r') as zip_ref:\n",
    "        zip_ref.extractall('.')\n",
    "    print('Extraction complete')\n",
    "else:\n",
    "    print('Dataset already extracted')"
   ]
  },
  {
   "cell_type": "markdown",
   "id": "ad9e0877",
   "metadata": {},
   "source": [
    "## Dataset Preparation with Intelligent Filtering\n",
    "Load the MovieLens dataset and filter users and items with sufficient interactions. Convert ratings to implicit feedback."
   ]
  },
  {
   "cell_type": "code",
   "execution_count": 3,
   "id": "211ad66b",
   "metadata": {},
   "outputs": [
    {
     "name": "stdout",
     "output_type": "stream",
     "text": [
      "Filtered dataset size: 90274 interactions\n"
     ]
    }
   ],
   "source": [
    "# Load data with aggressive filtering\n",
    "def load_filtered_data(min_ratings=20):\n",
    "    df = pd.read_csv('ml-latest-small/ratings.csv')\n",
    "\n",
    "    \n",
    "    # Filter users and items with sufficient interactions\n",
    "    user_counts = df['userId'].value_counts()\n",
    "    item_counts = df['movieId'].value_counts()\n",
    "    \n",
    "    filtered_users = user_counts[user_counts >= min_ratings].index\n",
    "    filtered_items = item_counts[item_counts >= min_ratings].index\n",
    "    \n",
    "    df = df[df['userId'].isin(filtered_users)]\n",
    "    df = df[df['movieId'].isin(filtered_items)]\n",
    "    \n",
    "    # Convert to implicit feedback\n",
    "    df['rating'] = 1  # Binary implicit feedback\n",
    "    \n",
    "    return df\n",
    "\n",
    "df = load_filtered_data(min_ratings=5)  # Aggressive filtering for speed\n",
    "print(f\"Filtered dataset size: {len(df)} interactions\")"
   ]
  },
  {
   "cell_type": "markdown",
   "id": "8fd23717",
   "metadata": {},
   "source": [
    "## Dataset Preprocessing\n",
    "Map user and movie IDs to unique indices, split the dataset into train and test sets, and generate negative samples."
   ]
  },
  {
   "cell_type": "code",
   "execution_count": 4,
   "id": "67f9faac",
   "metadata": {},
   "outputs": [],
   "source": [
    "# Unique entities after filtering\n",
    "users = df['userId'].unique()\n",
    "movies = df['movieId'].unique()\n",
    "\n",
    "# Create mappings\n",
    "user2id = {u:i for i,u in enumerate(users)}\n",
    "movie2id = {m:i for i,m in enumerate(movies)}\n",
    "\n",
    "# Convert IDs\n",
    "df['user_id'] = df['userId'].map(user2id)\n",
    "df['movie_id'] = df['movieId'].map(movie2id)\n",
    "\n",
    "# Train-test split with negative sampling\n",
    "train, test = train_test_split(df[['user_id', 'movie_id']], \n",
    "                              test_size=0.2,\n",
    "                              stratify=df['user_id'],\n",
    "                              random_state=42)\n",
    "\n",
    "# Generate negative samples (1:4 ratio)\n",
    "def generate_negatives(data, num_negatives=4):\n",
    "    negatives = []\n",
    "    for user in data['user_id'].unique():\n",
    "        pos_movies = set(data[data['user_id'] == user]['movie_id'])\n",
    "        all_movies = set(movie2id.values())\n",
    "        neg_movies = list(all_movies - pos_movies)[:num_negatives*len(pos_movies)]\n",
    "        negatives.extend([(user, m) for m in neg_movies])\n",
    "    return pd.DataFrame(negatives, columns=['user_id', 'movie_id'])\n",
    "\n",
    "train_neg = generate_negatives(train)\n",
    "train_data = pd.concat([train.assign(label=1), \n",
    "                       train_neg.assign(label=0)])\n",
    "\n",
    "# Filter test set to only include users/items from training data\n",
    "test = test[test['user_id'].isin(train['user_id'])]\n",
    "test = test[test['movie_id'].isin(train['movie_id'])]\n",
    "\n",
    "# Generate 99 negatives PER TEST USER\n",
    "test_neg = []\n",
    "for user in test['user_id'].unique():\n",
    "    pos_movies = set(test[test['user_id'] == user]['movie_id'])\n",
    "    all_movies = set(movie2id.values())\n",
    "    neg_movies = np.random.choice(\n",
    "        list(all_movies - pos_movies), \n",
    "        99,  # 1:99 negative ratio\n",
    "        replace=False\n",
    "    )\n",
    "    test_neg.extend([(user, m) for m in neg_movies])\n",
    "\n",
    "test_neg = pd.DataFrame(test_neg, columns=['user_id', 'movie_id'])\n",
    "test_data = pd.concat([test.assign(label=1), \n",
    "                      test_neg.assign(label=0)])\n"
   ]
  },
  {
   "cell_type": "markdown",
   "id": "b8242f83",
   "metadata": {},
   "source": [
    "## PyTorch Dataset Class\n",
    "Define a custom PyTorch Dataset class for efficient data loading."
   ]
  },
  {
   "cell_type": "code",
   "execution_count": 5,
   "id": "9dc30055",
   "metadata": {},
   "outputs": [],
   "source": [
    "class MovieLensDataset(Dataset):\n",
    "    def __init__(self, data):\n",
    "        self.users = torch.LongTensor(data['user_id'].values)\n",
    "        self.movies = torch.LongTensor(data['movie_id'].values)\n",
    "        self.labels = torch.FloatTensor(data['label'].values)\n",
    "        \n",
    "    def __len__(self):\n",
    "        return len(self.users)\n",
    "    \n",
    "    def __getitem__(self, idx):\n",
    "        return {\n",
    "            'user': self.users[idx],\n",
    "            'movie': self.movies[idx],\n",
    "            'label': self.labels[idx]\n",
    "        }\n",
    "\n",
    "# Create dataloaders with reduced batch size\n",
    "BATCH_SIZE = 512  # Increased batch size for faster training\n",
    "train_dataset = MovieLensDataset(train_data)\n",
    "test_dataset = MovieLensDataset(test_data)\n",
    "\n",
    "train_loader = DataLoader(train_dataset, batch_size=BATCH_SIZE, shuffle=True)\n",
    "test_loader = DataLoader(test_dataset, batch_size=BATCH_SIZE)"
   ]
  },
  {
   "cell_type": "markdown",
   "id": "362b94b3",
   "metadata": {},
   "source": [
    "## NeuMF Model Implementation\n",
    "Implement the NeuMF model with GMF and MLP pathways, and a prediction layer."
   ]
  },
  {
   "cell_type": "code",
   "execution_count": 6,
   "id": "863ad73e",
   "metadata": {},
   "outputs": [],
   "source": [
    "class NeuMF(nn.Module):\n",
    "    # def __init__(self, num_users, num_items, factors=8, layers=[16,8]):\n",
    "    #     super().__init__()\n",
    "    #     self.num_users = num_users\n",
    "    #     self.num_items = num_items\n",
    "        \n",
    "    #     # GMF components\n",
    "    #     self.gmf_user = nn.Embedding(num_users, factors)\n",
    "    #     self.gmf_item = nn.Embedding(num_items, factors)\n",
    "        \n",
    "    #     # MLP components\n",
    "    #     self.mlp_user = nn.Embedding(num_users, factors)\n",
    "    #     self.mlp_item = nn.Embedding(num_items, factors)\n",
    "        \n",
    "    #     self.mlp = nn.Sequential(\n",
    "    #         nn.Linear(2*factors, layers[0]),\n",
    "    #         nn.ReLU(),\n",
    "    #         nn.Linear(layers[0], layers[1]),\n",
    "    #         nn.ReLU()\n",
    "    #     )\n",
    "        \n",
    "    #     # Prediction layer\n",
    "    #     self.prediction = nn.Linear(factors + layers[1], 1)\n",
    "        \n",
    "    # def forward(self, user, item):\n",
    "    #     # GMF pathway\n",
    "    #     gmf_u = self.gmf_user(user)\n",
    "    #     gmf_i = self.gmf_item(item)\n",
    "    #     gmf = gmf_u * gmf_i\n",
    "        \n",
    "    #     # MLP pathway\n",
    "    #     mlp_u = self.mlp_user(user)\n",
    "    #     mlp_i = self.mlp_item(item)\n",
    "    #     mlp = torch.cat([mlp_u, mlp_i], dim=-1)\n",
    "    #     mlp = self.mlp(mlp)\n",
    "        \n",
    "    #     # Concatenate and predict\n",
    "    #     concat = torch.cat([gmf, mlp], dim=-1)\n",
    "    #     return torch.sigmoid(self.prediction(concat).squeeze())\n",
    "    \n",
    "    def __init__(self, num_users, num_items, gmf_factors=8, mlp_factors=8, mlp_layers=[32,16,8]):\n",
    "        super().__init__()\n",
    "        \n",
    "        # GMF components\n",
    "        self.gmf_user = nn.Embedding(num_users, gmf_factors)\n",
    "        self.gmf_item = nn.Embedding(num_items, gmf_factors)\n",
    "        \n",
    "        # MLP components\n",
    "        self.mlp_user = nn.Embedding(num_users, mlp_factors)\n",
    "        self.mlp_item = nn.Embedding(num_items, mlp_factors)\n",
    "        \n",
    "        self.mlp = nn.Sequential(\n",
    "            nn.Linear(2*mlp_factors, mlp_layers[0]),\n",
    "            nn.ReLU(),\n",
    "            nn.Linear(mlp_layers[0], mlp_layers[1]),\n",
    "            nn.ReLU(),\n",
    "            nn.Linear(mlp_layers[1], mlp_layers[2]),\n",
    "            nn.ReLU()\n",
    "        )\n",
    "        \n",
    "        # Final prediction layer\n",
    "        self.prediction = nn.Linear(gmf_factors + mlp_layers[-1], 1)\n",
    "\n",
    "    def forward(self, user, item):\n",
    "        gmf = self.gmf_user(user) * self.gmf_item(item)\n",
    "        \n",
    "        mlp_out = torch.cat([self.mlp_user(user), self.mlp_item(item)], dim=-1)\n",
    "        mlp_out = self.mlp(mlp_out)\n",
    "        \n",
    "        concat = torch.cat([gmf, mlp_out], dim=-1)\n",
    "        return torch.sigmoid(self.prediction(concat).squeeze())\n",
    "\n",
    "# Initialize model with reduced dimensions\n",
    "device = torch.device('mps' if torch.backends.mps.is_available() else 'cpu')\n",
    "model = NeuMF(\n",
    "    num_users=len(users),\n",
    "    num_items=len(movies),\n",
    "    gmf_factors=32,\n",
    "    mlp_factors=32,\n",
    "    mlp_layers=[64, 32, 16]\n",
    ").to(device)\n",
    "\n",
    "optimizer = torch.optim.Adam(model.parameters(), lr=0.001)\n",
    "criterion = nn.BCELoss()"
   ]
  },
  {
   "cell_type": "markdown",
   "id": "01670d87",
   "metadata": {},
   "source": [
    "## Training Loop with Early Stopping\n",
    "Train the model using a training loop with early stopping based on validation loss."
   ]
  },
  {
   "cell_type": "code",
   "execution_count": 7,
   "id": "30c311c0",
   "metadata": {},
   "outputs": [
    {
     "name": "stdout",
     "output_type": "stream",
     "text": [
      "Epoch 1: Train Loss: 0.5021, Test Loss: 0.5394\n",
      "Epoch 2: Train Loss: 0.4516, Test Loss: 0.5927\n",
      "Epoch 3: Train Loss: 0.4264, Test Loss: 0.7709\n",
      "Epoch 4: Train Loss: 0.4014, Test Loss: 1.5550\n",
      "Epoch 5: Train Loss: 0.3809, Test Loss: 2.5761\n",
      "Epoch 6: Train Loss: 0.3647, Test Loss: 4.0459\n",
      "Early stopping at epoch 6\n"
     ]
    }
   ],
   "source": [
    "def train_model(model, train_loader, test_loader, epochs=20, patience=5):\n",
    "    best_loss = float('inf')\n",
    "    no_improve = 0\n",
    "    train_losses = []\n",
    "    test_losses = []\n",
    "    \n",
    "    for epoch in range(epochs):\n",
    "        model.train()\n",
    "        epoch_loss = 0\n",
    "        for batch in train_loader:\n",
    "            optimizer.zero_grad()\n",
    "            user = batch['user'].to(device)\n",
    "            movie = batch['movie'].to(device)\n",
    "            label = batch['label'].to(device)\n",
    "            \n",
    "            pred = model(user, movie)\n",
    "            loss = criterion(pred, label)\n",
    "            \n",
    "            loss.backward()\n",
    "            optimizer.step()\n",
    "            epoch_loss += loss.item()\n",
    "        \n",
    "        # Validation\n",
    "        model.eval()\n",
    "        test_loss = 0\n",
    "        with torch.no_grad():\n",
    "            for batch in test_loader:\n",
    "                user = batch['user'].to(device)\n",
    "                movie = batch['movie'].to(device)\n",
    "                label = batch['label'].to(device)\n",
    "                \n",
    "                pred = model(user, movie)\n",
    "                test_loss += criterion(pred, label).item()\n",
    "                \n",
    "        train_loss = epoch_loss/len(train_loader)\n",
    "        test_loss = test_loss/len(test_loader)\n",
    "        train_losses.append(train_loss)\n",
    "        test_losses.append(test_loss)\n",
    "        \n",
    "        print(f'Epoch {epoch+1}: Train Loss: {train_loss:.4f}, Test Loss: {test_loss:.4f}')\n",
    "        \n",
    "        # Early stopping\n",
    "        if test_loss < best_loss:\n",
    "            best_loss = test_loss\n",
    "            no_improve = 0\n",
    "        else:\n",
    "            no_improve += 1\n",
    "            \n",
    "        if no_improve >= patience:\n",
    "            print(f'Early stopping at epoch {epoch+1}')\n",
    "            break\n",
    "    \n",
    "    return train_losses, test_losses\n",
    "\n",
    "# Train with reduced epochs\n",
    "train_loss, test_loss = train_model(model, train_loader, test_loader, epochs=25)"
   ]
  },
  {
   "cell_type": "markdown",
   "id": "1aaa058a",
   "metadata": {},
   "source": [
    "## Evaluation Metrics\n",
    "Evaluate the model using ranking metrics such as Hit Rate @k."
   ]
  },
  {
   "cell_type": "code",
   "execution_count": 8,
   "id": "b50ec69d",
   "metadata": {},
   "outputs": [
    {
     "name": "stdout",
     "output_type": "stream",
     "text": [
      "Hit Rate @10: 0.0196\n"
     ]
    }
   ],
   "source": [
    "def evaluate(model, test_loader, k=10):\n",
    "    model.eval()\n",
    "    hits = 0\n",
    "    total = 0\n",
    "    \n",
    "    with torch.no_grad():\n",
    "        for batch in test_loader:\n",
    "            user = batch['user'].to(device)\n",
    "            movie = batch['movie'].to(device)\n",
    "            label = batch['label'].to(device)\n",
    "            \n",
    "            pred = model(user, movie)\n",
    "            _, topk = torch.topk(pred, k)\n",
    "            \n",
    "            # Get actual positive items\n",
    "            positive = torch.where(label == 1)[0]\n",
    "            hits += sum(1 for idx in topk if idx in positive)\n",
    "            total += len(positive)\n",
    "            \n",
    "    return hits / total\n",
    "\n",
    "hit_rate = evaluate(model, test_loader)\n",
    "print(f'Hit Rate @10: {hit_rate:.4f}')"
   ]
  },
  {
   "cell_type": "markdown",
   "id": "c2dde2aa",
   "metadata": {},
   "source": [
    "## Visualization of Training Progress\n",
    "Plot training and validation loss over epochs to visualize training progress."
   ]
  },
  {
   "cell_type": "code",
   "execution_count": 9,
   "id": "b269ed74",
   "metadata": {},
   "outputs": [
    {
     "data": {
      "image/png": "[encoded data removed]",
      "text/plain": [
       "<Figure size 640x480 with 1 Axes>"
      ]
     },
     "metadata": {},
     "output_type": "display_data"
    }
   ],
   "source": [
    "plt.plot(train_loss, label='Train Loss')\n",
    "plt.plot(test_loss, label='Test Loss')\n",
    "plt.title('Training Progress')\n",
    "plt.xlabel('Epochs')\n",
    "plt.ylabel('BCE Loss')\n",
    "plt.legend()\n",
    "plt.show()"
   ]
  },
  {
   "cell_type": "markdown",
   "id": "8b1710af",
   "metadata": {},
   "source": [
    "## Generating Recommendations\n",
    "Define a function to generate top-k movie recommendations for a given user."
   ]
  },
  {
   "cell_type": "code",
   "execution_count": 10,
   "id": "97c62070",
   "metadata": {},
   "outputs": [
    {
     "name": "stdout",
     "output_type": "stream",
     "text": [
      "Recommendations for user 1:\n",
      "[np.int64(2797), np.int64(1214), np.int64(919), np.int64(91128), np.int64(1197)]\n"
     ]
    }
   ],
   "source": [
    "def recommend(user_id, top_k=5):\n",
    "    user_idx = user2id[user_id]\n",
    "    all_movies = torch.LongTensor(list(movie2id.values())).to(device)\n",
    "    user_tensor = torch.LongTensor([user_idx]*len(all_movies)).to(device)\n",
    "    \n",
    "    with torch.no_grad():\n",
    "        scores = model(user_tensor, all_movies)\n",
    "    \n",
    "    top_indices = scores.argsort(descending=True)[:top_k]\n",
    "    return [list(movie2id.keys())[idx] for idx in top_indices.cpu().numpy()]\n",
    "\n",
    "# Example usage\n",
    "sample_user = df['userId'].iloc[0]\n",
    "print(f\"Recommendations for user {sample_user}:\")\n",
    "print(recommend(sample_user))"
   ]
  }
 ],
 "metadata": {
  "kernelspec": {
   "display_name": ".venv",
   "language": "python",
   "name": "python3"
  },
  "language_info": {
   "codemirror_mode": {
    "name": "ipython",
    "version": 3
   },
   "file_extension": ".py",
   "mimetype": "text/x-python",
   "name": "python",
   "nbconvert_exporter": "python",
   "pygments_lexer": "ipython3",
   "version": "3.13.2"
  }
 },
 "nbformat": 4,
 "nbformat_minor": 5
}
